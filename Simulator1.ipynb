{
 "cells": [
  {
   "cell_type": "markdown",
   "metadata": {},
   "source": [
    "# Simulator\n"
   ]
  },
  {
   "cell_type": "markdown",
   "metadata": {},
   "source": [
    "&emsp;The goal of our work is researching some approaches to solve the problem of maximizing the average number of pages read in multi-page publications. We want to learn how we need to lead the agent through the pages to cause her consuming as much content as possible. Unfortunately we have no special lab or resource to perform field experiments. That's why we need to build a good simulator that will mimic the agents behavior when she visits the pages we try to maximize the number of views.  \n",
    "&emsp;The simulator receives from the outside directed graph that represents a structure of the content. Each vertex is a page and an edge from vertex A to vertex B express the link between page A and B, i.e. the next page that is presented to the agent after seeing page A may be page B.<br><br>\n",
    "The agent behavior simulator is the core part of this project. The simulation is performed as following:<br>\n",
    "    &emsp;**1)** At each round the agent is at some vertex of the graph - this is an abstraction for the agent looking at some page that we presented to her.<br>\n",
    "    &emsp;**2)** On the same round, after watching the page, the agent chooses one of three actions: go to the next page, return to the previous page ( the one she saw at the previous round ), or stop watching the pages and leave.<br>\n",
    "    &emsp;**3)** If the agent selected the \"next page\" action, the simulator choose the next page to present to the agent. <br>\n",
    "    &emsp;**4)** The round finishes and the next round starts.<br><br>\n",
    "\n",
    "&emsp;In this program we focus on second and the first step, the second step depends on the first one. We can think of it as if the agent liked the picture (or the sequence of pictures) or found it to be interesting and want to see the next one, or the opposite case, when she is bored with the current picture (or sequence of presented pictures) and don't want to keep watching.\n",
    "\n",
    "    "
   ]
  },
  {
   "cell_type": "markdown",
   "metadata": {},
   "source": [
    "### Simple version "
   ]
  },
  {
   "cell_type": "markdown",
   "metadata": {},
   "source": [
    "### Data structures and types"
   ]
  },
  {
   "cell_type": "markdown",
   "metadata": {},
   "source": [
    "&emsp;The following data structures are simple abstract representations of the set of the pages and the links among them. Directed graph of the type Graph1 describes possible pages links. Vertexes of the graph of type Node1 represents one single page that the agent is supposed to see. If there is an edge from vertex A to vertex B ( B is in the set of A's neighbors) , page B may be presented to the agent after she saw page A and decided to proceed.<br>\n",
    "<br>\n",
    "&emsp;The last data structure type agent1 represents the agent, that traverse the pages of content. In our simulator she traverses the graph Graph1 until she leaves. The core part of out simulator is choiseFunction attribute of the agent. It is a function that defines the behavior of the agent with respect to each page (whether she leaves, proceeds or go back)."
   ]
  },
  {
   "cell_type": "code",
   "execution_count": 48,
   "metadata": {},
   "outputs": [],
   "source": [
    "@enum UserAction  goBack goNext leave\n",
    "\n",
    "struct Node1 \n",
    "    id :: String\n",
    "    NameInInput :: Any   \n",
    "end\n",
    "\n",
    "\n",
    "struct Graph1 \n",
    "    graph :: Dict{Node1,Set{Node1}} \n",
    "end\n",
    "\n",
    "\n",
    "struct User1 \n",
    "   id :: String \n",
    "   ActionChoiseFunction  :: Any\n",
    "end\n"
   ]
  },
  {
   "cell_type": "markdown",
   "metadata": {},
   "source": [
    "### Auxiliary functions\n",
    "Here we define simple auxiliary functions"
   ]
  },
  {
   "cell_type": "code",
   "execution_count": 49,
   "metadata": {
    "code_folding": []
   },
   "outputs": [],
   "source": [
    "# id_generator , get_node , printPath , getNeibhors\n",
    "\n",
    "# Create a counter , used to produce unique ids\n",
    "function id_generator()\n",
    "    id = 0 \n",
    "    return ()-> id = id + 1\n",
    "end\n",
    "\n",
    "nodeIdGenerator = id_generator()    # Nodes id generator\n",
    "userIdGenerator = id_generator()    # Users id generator\n",
    "\n",
    "\n",
    "\n",
    "# Return Node that corresponds to some name (that was given in input source , typicaly number)\n",
    "\n",
    "function get_node(NameInInput, graph:: Graph1)\n",
    "    nodes = graph.graph |> keys |> collect\n",
    "    index = findfirst(node -> NameInInput == node.NameInInput,nodes) \n",
    "   return  nodes[index]\n",
    "    end\n",
    "\n",
    "\n",
    "# Given array of nodes , print their names devided by \"=>\"\n",
    "# It is supposed to print the users path in the graph\n",
    "function printPath(path :: Array{Node1,1})\n",
    "    return   join(map(node-> node.NameInInput,path),\"=>\")\n",
    "    \n",
    "end\n",
    "\n",
    "# Given node and graph , return node's neighbors\n",
    "function getNeibhors(node :: Node1, graph :: Graph1) ::  Set{Node1}\n",
    "        return graph.graph[node]\n",
    "end;"
   ]
  },
  {
   "cell_type": "markdown",
   "metadata": {},
   "source": [
    " "
   ]
  },
  {
   "cell_type": "markdown",
   "metadata": {},
   "source": [
    "### Producing the graph \n",
    "\n",
    "&emsp;The graph represents the structure of the content - possible order of the pages to be shown. Page B can be shown after page A only if there is edge (A,B) in the graph. It actually imposes constrains on the order the pages can be shown to the user. <br>\n",
    "\n",
    "&emsp;In addition each node should contain unique identifiers or a callback function. It's required to simulate the reaction of the user to this particular page.<br>\n",
    "&emsp;In other words, we need a way to separate the page from the others and define the attractiveness of it to the user. Some kind of API from the content side that will be used in deterministic or non-deterministic mechanism that simulates  agent's behavior after watching this page. "
   ]
  },
  {
   "cell_type": "markdown",
   "metadata": {},
   "source": [
    "The function below produces the simplest variant of such a graph of the type Graph1. It doesn't have any distinctions between the nodes, all the pages are considered the same. It provides only the content structure - the edges between the nodes. "
   ]
  },
  {
   "cell_type": "code",
   "execution_count": 50,
   "metadata": {},
   "outputs": [],
   "source": [
    "function createGraph(simple_tuples :: Array{Tuple{Int64,Int64},1})\n",
    "    \n",
    "    node_dict = Dict()\n",
    "    graph = Graph1(Dict())\n",
    "    \n",
    "    create_new_node = (NameInInput) -> \n",
    "                        (()-> (id = string(nodeIdGenerator()); Node1(id,NameInInput)))\n",
    "    \n",
    "    for (n1,n2) in simple_tuples\n",
    "        \n",
    "        node1 = get!(create_new_node(n1),node_dict,n1)\n",
    "        \n",
    "        node2 = get!(create_new_node(n2),node_dict,n2)\n",
    "        \n",
    "        neighbors = get!(Set,graph.graph,node1)\n",
    "        \n",
    "        push!(neighbors,node2)      \n",
    "        \n",
    "    end\n",
    "\n",
    "  return graph  \n",
    "    \n",
    "end;"
   ]
  },
  {
   "cell_type": "markdown",
   "metadata": {},
   "source": [
    " "
   ]
  },
  {
   "cell_type": "markdown",
   "metadata": {},
   "source": [
    "### Main interface functions\n",
    "\n",
    "&emsp;The following functions are actually the most important parts of the simulator. The first one defines user behavior : which action will be chosen by the agent after watching some particular page (visiting some particular node ). <br>\n",
    "The second function defines which new page will be presented to the agent if she decided to proceed. It will connect the simulator to some external algorithm that will attempt to maximize the number of pages visited.\n",
    "\n"
   ]
  },
  {
   "cell_type": "markdown",
   "metadata": {},
   "source": [
    "&emsp;The following implementations are trivial : 1) In order to choose the next action the inner function of the agent is called 2)The next page to show to the user is selected uniformly among neighbors of the current page in the graph. "
   ]
  },
  {
   "cell_type": "code",
   "execution_count": 51,
   "metadata": {
    "code_folding": []
   },
   "outputs": [],
   "source": [
    "\n",
    "\n",
    "\n",
    "function chooseNextAction(user :: User1, node :: Node1) :: UserAction\n",
    "    user.ActionChoiseFunction(node)\n",
    "end\n",
    "\n",
    "\n",
    "\n",
    "function getNextNode(graph :: Graph1, path :: Array{Node1,1})\n",
    "    currentNode = path[end]\n",
    "    return rand(getNeibhors(currentNode,graph))\n",
    "    end;\n"
   ]
  },
  {
   "cell_type": "markdown",
   "metadata": {},
   "source": [
    "## Main function \n",
    "\n",
    "&emsp;Here the simulator is ran for one agent. Given initial node and content graph, the following function simulates agent's traversal in the set of pages. It assumes that the agent can make 3 actions: 1) Press \"next\" -- proceed to the next page. 2) Press \"back\" - go back to the previous page that she visited 3) Leave the pages -- it is always the last action in the simulation for the current agent.<br>\n",
    "In response to each action the current state of the simulator is updated , and the information about user's traversals is collected. <br>\n",
    "There are two important records here : path and current node . <br> <br>\n",
    "&emsp;1) **path** -- list of unique nodes that were visited by the agent sorted by the time (round index) they were revealed.<br>\n",
    "Walking back and forth is allowed only along the path, and it happens when the agent presses next and back. When the agent is at the last node ( path\\[end\\] ) and press \"next\", she traverses to the new node that is returned by getNextNode function. <br> \n",
    "&emsp;2) **current node** -- the node the agent is currently at i.e the page the user watches now. <br><br>\n",
    "&emsp;For example: at the beginning the path contains only the initial node N1 and current node is also N1. Than the user presses \"next\" and the new node N2 is provided by getNextNode  , the path is (N1,N2) and current node is N2. Than the user presses \"back\" , the path remains the same and current node turns equal to N1 . Than the user presses \"next\" and the state turns to be path =(N1,N2) current node = N2 ....."
   ]
  },
  {
   "cell_type": "code",
   "execution_count": 52,
   "metadata": {},
   "outputs": [],
   "source": [
    "function performWalk(user :: User1, graph :: Graph1, initialNode :: Node1)\n",
    "    \n",
    "    currentNode = initialNode\n",
    "    path = Node1[currentNode]\n",
    "    nodesVisited = Node1[currentNode]\n",
    "    currentIndex = 1\n",
    "    stepCounter = 0\n",
    "\n",
    "    while true\n",
    "              \n",
    "       nextAction = chooseNextAction(user, currentNode)\n",
    "        \n",
    "       # The agent is somewhere on previous pages that he visited and press next\n",
    "        if nextAction == goNext && currentIndex < length(path)\n",
    "            currentIndex += 1\n",
    "            currentNode = path[currentIndex]\n",
    "            stepCounter += 1\n",
    "            push!(nodesVisited,currentNode)\n",
    "        # The agent is somewhere on previous pages that he visited and press back\n",
    "        elseif nextAction == goBack && currentIndex > 1\n",
    "            currentIndex -= 1\n",
    "            currentNode = path[currentIndex]\n",
    "            stepCounter += 1\n",
    "            push!(nodesVisited,currentNode)\n",
    "        # The agent is on the last page that he visited and press next\n",
    "        elseif nextAction == goNext && currentIndex == length(path)\n",
    "            currentIndex += 1\n",
    "            currentNode = getNextNode(graph,path)\n",
    "            stepCounter += 1\n",
    "            push!(path,currentNode)\n",
    "            push!(nodesVisited,currentNode)\n",
    "        # The agent press leave\n",
    "        elseif nextAction == leave\n",
    "            break\n",
    "        # Unexpected combination of conditions\n",
    "        else \n",
    "            stepCounter += 1\n",
    "\n",
    "            push!(nodesVisited,currentNode)\n",
    "            # Throw exception\n",
    "            # throw(ErrorException(\"Something went wrong path $path , current index $currentIndex , step counter $stepCounter, action $nextAction\"))\n",
    "       end\n",
    "        \n",
    "    end\n",
    "\n",
    "    return Dict(\"path\" => path, \"nodesVisited\" => nodesVisited)\n",
    "    end;\n"
   ]
  },
  {
   "cell_type": "markdown",
   "metadata": {},
   "source": [
    "### The example of run \n",
    "\n",
    "The user has a simple policy , choose next node randomly.\n",
    "Initial node is node 1 .\n"
   ]
  },
  {
   "cell_type": "code",
   "execution_count": 144,
   "metadata": {},
   "outputs": [
    {
     "ename": "LoadError",
     "evalue": "\u001b[91mKeyError: key Node1(\"368\", 4) not found\u001b[39m",
     "output_type": "error",
     "traceback": [
      "\u001b[91mKeyError: key Node1(\"368\", 4) not found\u001b[39m",
      "",
      "Stacktrace:",
      " [1] getindex at .\\dict.jl:467 [inlined]",
      " [2] getNeibhors at .\\In[49]:32 [inlined]",
      " [3] getNextNode at .\\In[51]:12 [inlined]",
      " [4] performWalk(::User1, ::Graph1, ::Node1) at .\\In[52]:28",
      " [5] top-level scope at In[144]:7",
      " [6] include_string(::Function, ::Module, ::String, ::String) at .\\loading.jl:1091"
     ]
    }
   ],
   "source": [
    "user = User1(\"1\",x -> rand(instances(UserAction)))\n",
    "\n",
    "graph = createGraph([(1,2),(2,3),(1,3),(3,4)])\n",
    "\n",
    "initial_node = get_node(1,graph)\n",
    "\n",
    "result = performWalk(user,graph,initial_node)\n",
    "\n",
    "printPath(result[\"nodesVisited\"])"
   ]
  }
 ],
 "metadata": {
  "kernelspec": {
   "display_name": "Julia 1.5.3",
   "language": "julia",
   "name": "julia-1.5"
  },
  "language_info": {
   "file_extension": ".jl",
   "mimetype": "application/julia",
   "name": "julia",
   "version": "1.5.3"
  }
 },
 "nbformat": 4,
 "nbformat_minor": 2
}
