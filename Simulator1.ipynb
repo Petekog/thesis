{
 "cells": [
  {
   "cell_type": "code",
   "execution_count": 32,
   "metadata": {},
   "outputs": [
    {
     "name": "stderr",
     "output_type": "stream",
     "text": [
      "\u001b[32m\u001b[1m   Updating\u001b[22m\u001b[39m registry at `C:\\Users\\Owner\\.julia\\registries\\General`\n",
      "\u001b[32m\u001b[1m  Resolving\u001b[22m\u001b[39m package versions...\n",
      "\u001b[32m\u001b[1m  Installed\u001b[22m\u001b[39m Pipe ─ v1.3.0\n",
      "\u001b[32m\u001b[1mUpdating\u001b[22m\u001b[39m `C:\\Users\\Owner\\.julia\\environments\\v1.5\\Project.toml`\n",
      " \u001b[90m [b98c9c47] \u001b[39m\u001b[92m+ Pipe v1.3.0\u001b[39m\n",
      "\u001b[32m\u001b[1mUpdating\u001b[22m\u001b[39m `C:\\Users\\Owner\\.julia\\environments\\v1.5\\Manifest.toml`\n",
      " \u001b[90m [b98c9c47] \u001b[39m\u001b[92m+ Pipe v1.3.0\u001b[39m\n",
      "┌ Info: Precompiling Pipe [b98c9c47-44ae-5843-9183-064241ee97a0]\n",
      "└ @ Base loading.jl:1278\n"
     ]
    }
   ],
   "source": [
    "using Pkg\n",
    "\n",
    "Pkg.add(\"Pipe\")\n",
    "\n",
    "using Pipe\n"
   ]
  },
  {
   "cell_type": "code",
   "execution_count": null,
   "metadata": {},
   "outputs": [],
   "source": []
  },
  {
   "cell_type": "code",
   "execution_count": null,
   "metadata": {},
   "outputs": [],
   "source": [
    "abstract type Graph end\n",
    "\n",
    "abstract type Node end\n",
    "\n",
    "abstract type User end\n",
    "\n"
   ]
  },
  {
   "cell_type": "code",
   "execution_count": null,
   "metadata": {},
   "outputs": [],
   "source": []
  },
  {
   "cell_type": "code",
   "execution_count": null,
   "metadata": {},
   "outputs": [],
   "source": [
    "struct Graph1 <: Graph\n",
    "    graph :: Dict{Node,Set{Node}} \n",
    "end\n",
    "\n",
    "struct Node1 <: Node\n",
    "    id :: String\n",
    "    NameInInput :: Any\n",
    "    isFinal :: Bool    \n",
    "end\n",
    "\n",
    "struct User1 <: User\n",
    "   id :: String \n",
    "   choiseFunction \n",
    "end"
   ]
  },
  {
   "cell_type": "code",
   "execution_count": 2,
   "metadata": {},
   "outputs": [],
   "source": [
    "function id_generator()\n",
    "    id = 0 \n",
    "    return ()-> id = id + 1\n",
    "end\n",
    "\n",
    "nodeIdGenerator = id_generator()\n",
    "userIdGenerator = id_generator()\n",
    "\n",
    "\n",
    "function get_initial_node(NameInInput, graph:: Graph1)\n",
    "   return findfirst(node -> NameInInput == node.NameInInput, graph.graph.keys()) \n",
    "end"
   ]
  },
  {
   "cell_type": "code",
   "execution_count": 15,
   "metadata": {},
   "outputs": [
    {
     "ename": "LoadError",
     "evalue": "\u001b[91msyntax: type declarations on global variables are not yet supported\u001b[39m",
     "output_type": "error",
     "traceback": [
      "\u001b[91msyntax: type declarations on global variables are not yet supported\u001b[39m",
      "",
      "Stacktrace:",
      " [1] top-level scope at In[15]:1",
      " [2] include_string(::Function, ::Module, ::String, ::String) at .\\loading.jl:1091"
     ]
    }
   ],
   "source": [
    "function createGraph(simple_tuples :: Array{Tuple{Int64,Int64},1})\n",
    "    \n",
    "    \n",
    "    graph = Graph1(Dict())\n",
    "    \n",
    "    \n",
    "    for (n1,n2) in simple_tuples\n",
    "        node1 = @pipe nodeIdGenerator() |> string |> Node1(_,n1,false)\n",
    "        \n",
    "        node2 = @pipe nodeIdGenerator() |> string |> Node1(_,n2,false)\n",
    "        \n",
    "        neighbors = get!(Set,graph.graph,node1)\n",
    "        \n",
    "        push!(neighbors,node2)      \n",
    "        \n",
    "    end\n",
    "\n",
    "    terminalNode = @pipe nodeIdGenerator() |> string |> Node1(_,\"exit\",true)\n",
    "\n",
    "    foreach(x->push!(x,terminalNode),values(graph.graph))\n",
    "\n",
    "  return graph  \n",
    "    \n",
    "end"
   ]
  },
  {
   "cell_type": "code",
   "execution_count": 31,
   "metadata": {
    "code_folding": []
   },
   "outputs": [
    {
     "data": {
      "text/plain": [
       "createGraph (generic function with 1 method)"
      ]
     },
     "execution_count": 31,
     "metadata": {},
     "output_type": "execute_result"
    }
   ],
   "source": [
    "\n",
    "function getNeibhors(node :: Node, graph :: Graph1) ::  Set{Node}\n",
    "        return graph.graph[node]\n",
    "end\n",
    "\n",
    "function chooseNextNode(user :: User1, nodes :: Set{Node}) :: Node\n",
    "    user.choiseFunction(nodes)\n",
    "end\n",
    "\n",
    "function printPath(path :: Array{Node,1})\n",
    "    return @pipe map(node-> node.NameInInput,path) |> join(_,\"=>\")\n",
    "    \n",
    "end\n",
    "\n",
    "function is_terminal(node :: Node1)\n",
    "    return node.isFinal \n",
    "\n",
    "end\n"
   ]
  },
  {
   "cell_type": "code",
   "execution_count": null,
   "metadata": {},
   "outputs": [],
   "source": []
  },
  {
   "cell_type": "code",
   "execution_count": 29,
   "metadata": {},
   "outputs": [
    {
     "data": {
      "text/plain": [
       "Node1(\"2\")"
      ]
     },
     "execution_count": 29,
     "metadata": {},
     "output_type": "execute_result"
    }
   ],
   "source": [
    "function performWalk(user :: User, graph :: Graph, initialNode :: Node)\n",
    "    currentNode = initialNode\n",
    "    path = Node[]\n",
    "    \n",
    "    while !is_terminal(currentNode)\n",
    "       push!(path,currentNode)\n",
    "        \n",
    "       neighbours = getNeibhors(currentNode, graph)\n",
    "       currentNode = chooseNextNode(user, neighbours)\n",
    "        \n",
    "    end\n",
    "\n",
    "    return Dict(\"path\" => path)\n",
    "end"
   ]
  },
  {
   "cell_type": "code",
   "execution_count": 10,
   "metadata": {},
   "outputs": [
    {
     "data": {
      "text/plain": [
       "performWalk (generic function with 1 method)"
      ]
     },
     "execution_count": 10,
     "metadata": {},
     "output_type": "execute_result"
    }
   ],
   "source": [
    "user = User1(\"1\",x -> rand(x))\n",
    "\n",
    "graph = createGraph([(1,2),(2,3),(1,3),(3,1)])"
   ]
  },
  {
   "cell_type": "code",
   "execution_count": null,
   "metadata": {},
   "outputs": [],
   "source": []
  }
 ],
 "metadata": {
  "kernelspec": {
   "display_name": "Julia 1.5.3",
   "language": "julia",
   "name": "julia-1.5"
  },
  "language_info": {
   "file_extension": ".jl",
   "mimetype": "application/julia",
   "name": "julia",
   "version": "1.5.3"
  }
 },
 "nbformat": 4,
 "nbformat_minor": 2
}
