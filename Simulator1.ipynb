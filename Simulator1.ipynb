{
 "cells": [
  {
   "cell_type": "markdown",
   "metadata": {},
   "source": [
    "# Simulator\n",
    "### Simple version "
   ]
  },
  {
   "cell_type": "code",
   "execution_count": 36,
   "metadata": {},
   "outputs": [
    {
     "name": "stderr",
     "output_type": "stream",
     "text": [
      "\u001b[32m\u001b[1m  Resolving\u001b[22m\u001b[39m package versions...\n",
      "\u001b[32m\u001b[1mNo Changes\u001b[22m\u001b[39m to `C:\\Users\\Owner\\.julia\\environments\\v1.5\\Project.toml`\n",
      "\u001b[32m\u001b[1mNo Changes\u001b[22m\u001b[39m to `C:\\Users\\Owner\\.julia\\environments\\v1.5\\Manifest.toml`\n"
     ]
    }
   ],
   "source": [
    "using Pkg\n",
    "\n",
    "Pkg.add(\"Pipe\")\n",
    "\n",
    "using Pipe\n"
   ]
  },
  {
   "cell_type": "markdown",
   "metadata": {},
   "source": [
    "### Data structures and types"
   ]
  },
  {
   "cell_type": "markdown",
   "metadata": {},
   "source": [
    "Abstract types of general entities in the simulator :\n",
    "\n",
    "**Node** - vertex of the Graph that represents a page with content. \n",
    "\n",
    "**Graph** - directed graph , it represents page linking. It consists of Nodes. If there is an edge from node X to Y , there is a direct link on corresponding page X to page Y .\n",
    "\n",
    "**User** - represents the user that visit the site ( set of pages ). \n"
   ]
  },
  {
   "cell_type": "code",
   "execution_count": 2,
   "metadata": {},
   "outputs": [],
   "source": [
    "abstract type Graph end\n",
    "\n",
    "abstract type Node end\n",
    "\n",
    "abstract type User end\n",
    "\n"
   ]
  },
  {
   "cell_type": "markdown",
   "metadata": {},
   "source": [
    "The simplest instantiation of general objects.  "
   ]
  },
  {
   "cell_type": "code",
   "execution_count": 3,
   "metadata": {},
   "outputs": [],
   "source": [
    "struct Graph1 <: Graph\n",
    "    graph :: Dict{Node,Set{Node}}  # Key - Node , Value - Set of its neighbors\n",
    "end\n",
    "\n",
    "struct Node1 <: Node\n",
    "    id :: String                   # Unique id of the node   \n",
    "    NameInInput :: Any             # The name of the node as it was given in the input \n",
    "    isFinal :: Bool                # Whether the node is a final node ( the user leaved the pages )\n",
    "end\n",
    "\n",
    "struct User1 <: User\n",
    "   id :: String                    # Unique id of the user\n",
    "   choiseFunction                  # The function that defines the behaviour of the user when she traverses the graph \n",
    "end"
   ]
  },
  {
   "cell_type": "markdown",
   "metadata": {},
   "source": [
    "### Auxiliary functions"
   ]
  },
  {
   "cell_type": "code",
   "execution_count": 33,
   "metadata": {},
   "outputs": [],
   "source": [
    "# Create a counter , used to produce unique ids\n",
    "function id_generator()\n",
    "    id = 0 \n",
    "    return ()-> id = id + 1\n",
    "end\n",
    "\n",
    "nodeIdGenerator = id_generator()    # Nodes id generator\n",
    "userIdGenerator = id_generator()    # Users id generator\n",
    "\n",
    "\n",
    "\n",
    "# Return Node that corresponds to some name (that was given in input source , typicaly number)\n",
    "\n",
    "function get_node(NameInInput, graph:: Graph1)\n",
    "    nodes = graph.graph |> keys |> collect\n",
    "    index = findfirst(node -> NameInInput == node.NameInInput,nodes) \n",
    "   return  nodes[index]\n",
    "    end\n",
    "\n",
    "# Whether the node is a final node ( the user leaved)\n",
    "function is_terminal(node :: Node1)\n",
    "    return node.isFinal \n",
    "\n",
    "end\n",
    "\n",
    "# Given array of nodes , print their names devided by \"=>\"\n",
    "# It is supposed to print the users path in the graph\n",
    "function printPath(path :: Array{Node,1})\n",
    "    return @pipe map(node-> node.NameInInput,path) |> join(_,\"=>\")\n",
    "    \n",
    "end;"
   ]
  },
  {
   "cell_type": "markdown",
   "metadata": {},
   "source": [
    " "
   ]
  },
  {
   "cell_type": "markdown",
   "metadata": {},
   "source": [
    "### Producing the graph \n",
    "\n",
    "Instantiate the graph given array of pairs , each pair represents edge in graph (source, destination)"
   ]
  },
  {
   "cell_type": "code",
   "execution_count": 32,
   "metadata": {},
   "outputs": [],
   "source": [
    "function createGraph(simple_tuples :: Array{Tuple{Int64,Int64},1})\n",
    "    \n",
    "    node_dict = Dict()         # Dict from number to corresponding node\n",
    "    graph = Graph1(Dict())     # Resulting graph\n",
    "    \n",
    "    \n",
    "    # For each pair of numbers in the input , create corresponding nodes , if they don't exist, \n",
    "    # and store node node2 in the set of node1's neighbors\n",
    "    for (n1,n2) in simple_tuples\n",
    "           \n",
    "        node1 = get!(()->(@pipe nodeIdGenerator() |> string |> Node1(_,n1,false)),node_dict,n1)\n",
    "        \n",
    "        node2 =  get!(()->(@pipe nodeIdGenerator() |> string |> Node1(_,n2,false)),node_dict,n2)\n",
    "        \n",
    "        neighbors = get!(Set,graph.graph,node1)\n",
    "        \n",
    "        push!(neighbors,node2)      \n",
    "        \n",
    "    end\n",
    "    \n",
    "    # Create terminal node and lings from all nodes in graph to it\n",
    "    terminalNode = @pipe nodeIdGenerator() |> string |> Node1(_,\"exit\",true)\n",
    "\n",
    "    foreach(x->push!(x,terminalNode),values(graph.graph))\n",
    "\n",
    "  return graph  \n",
    "    \n",
    "    end;"
   ]
  },
  {
   "cell_type": "markdown",
   "metadata": {},
   "source": [
    " "
   ]
  },
  {
   "cell_type": "markdown",
   "metadata": {},
   "source": [
    "### Main interface functions\n",
    "\n",
    "This functions will be extended when more complex user behavior will be implemented "
   ]
  },
  {
   "cell_type": "code",
   "execution_count": 35,
   "metadata": {
    "code_folding": []
   },
   "outputs": [],
   "source": [
    "# Given node and graph , return node's neighbors\n",
    "function getNeibhors(node :: Node, graph :: Graph1) ::  Set{Node}\n",
    "        return graph.graph[node]\n",
    "end\n",
    "\n",
    "\n",
    "# Given set of nodes , the user choose one node .\n",
    "# The function is supposed to be used for defining the next node to traverse to .\n",
    "# The inner choice function of the user is called.\n",
    "function chooseNextNode(user :: User1, nodes :: Set{Node}) :: Node\n",
    "    user.choiseFunction(nodes)\n",
    " end;\n",
    "\n",
    "\n",
    "\n",
    "\n"
   ]
  },
  {
   "cell_type": "markdown",
   "metadata": {},
   "source": [
    "## Main function \n",
    "\n",
    "Given the user the graph and the initial node , run the simulation of user traversing the graph according to her inner policy.\n",
    "Return the summary of user's traversal  ( currently only a path )"
   ]
  },
  {
   "cell_type": "code",
   "execution_count": 41,
   "metadata": {},
   "outputs": [],
   "source": [
    "function performWalk(user :: User, graph :: Graph, initialNode :: Node)\n",
    "    currentNode = initialNode\n",
    "    path = Node[]               # The nodes the user visited\n",
    "    \n",
    "    while !is_terminal(currentNode)\n",
    "       push!(path,currentNode)\n",
    "        \n",
    "       neighbours = getNeibhors(currentNode, graph)\n",
    "       currentNode = chooseNextNode(user, neighbours)\n",
    "        \n",
    "    end\n",
    "\n",
    "    return Dict(\"path\" => path)\n",
    "    end;"
   ]
  },
  {
   "cell_type": "markdown",
   "metadata": {},
   "source": [
    "### The example of run \n",
    "\n",
    "The user has a simple policy , choose next node randomly.\n",
    "Initial node is node 1 .\n"
   ]
  },
  {
   "cell_type": "code",
   "execution_count": 40,
   "metadata": {},
   "outputs": [
    {
     "data": {
      "text/plain": [
       "\"1=>3=>1=>2=>3=>1=>2\""
      ]
     },
     "execution_count": 40,
     "metadata": {},
     "output_type": "execute_result"
    }
   ],
   "source": [
    "user = User1(\"1\",x -> rand(x))   # The second arg is user's policy of choosing the node \n",
    "\n",
    "graph = createGraph([(1,2),(2,3),(1,3),(3,1)])\n",
    "\n",
    "initialNode = get_node(1,graph)       \n",
    "\n",
    "result = performWalk(user,graph,initialNode)   # Simulation \n",
    "\n",
    "printPath(result[\"path\"])"
   ]
  }
 ],
 "metadata": {
  "kernelspec": {
   "display_name": "Julia 1.5.3",
   "language": "julia",
   "name": "julia-1.5"
  },
  "language_info": {
   "file_extension": ".jl",
   "mimetype": "application/julia",
   "name": "julia",
   "version": "1.5.3"
  }
 },
 "nbformat": 4,
 "nbformat_minor": 2
}
