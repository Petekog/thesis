{
 "cells": [
  {
   "cell_type": "markdown",
   "metadata": {},
   "source": [
    "# Simulator\n"
   ]
  },
  {
   "cell_type": "markdown",
   "metadata": {},
   "source": [
    "&emsp;The goal of our work is researching some approaches to solve the problem of maximizing the average number of pages read in multi-page publications. We want to learn how we need to lead the agent through the pages to cause her consuming as much content as possible. Unfortunately we have no special lab or resource to perform field experiments. That's why we need to build a good simulator that will mimic the agents behavior.  \n",
    "&emsp;The simulator receives from the outside directed graph that represents the structure of the content. Each vertex is a page and an edge from vertex A to vertex B expresses the link between page A and B, i.e. the next page that is presented to the agent after seeing page A may be page B. That is if there is no edge between vertex A and C , C can't be presented to the agent right after A.<br><br>\n",
    "The core part of this project is imitating the traversal of the agent through the pages. This process is divided into rounds and on each round the following steps occurs:<br>\n",
    "    &emsp;**1)**  Agent watches some page from the set of pages that we presented to her. In terms of graph abstraction - she is at some vertex of the graph.<br>\n",
    "    &emsp;**2)** After watching the page, the agent chooses one of three actions: go to the next page, return to the previous page, or stop watching pages and leave.<br>\n",
    "    &emsp;**3)** If the agent selected the \"next\" action, the simulator choose the page to present to the agent at the next round. <br>\n",
    "    &emsp;&emsp; If the agent selected the \"back\" action, one of the pages she previously watched will be presented at the next round (the exact mechanics will be explained further).<br>\n",
    "    &emsp;&emsp;If the agent selected the \"leave\" action, the simulation stops.<br>\n",
    "    &emsp;**4)** The round finishes, the user is traversed to the node that was chosen on the previous step and  the next round starts.<br><br>\n",
    "\n",
    "&emsp;Here focus on the first and the second step. We want to imitate the reaction of real Internet user to some piece of content. For example the agent liked the picture (or the sequence of pictures), found it to be interesting and want to see the next one, or the opposite case, when she is bored with the current picture (or sequence of presented pictures) and don't want to keep watching. It's important to mention that the action the user performs is not supposed to be  deterministic, it is more natural to think  of it in terms of probability. If the user liked the page she saw, she is more likely to press next, than after seeing the page that she loved less.  \n",
    "\n",
    "    "
   ]
  },
  {
   "cell_type": "markdown",
   "metadata": {},
   "source": [
    "### Simple version "
   ]
  },
  {
   "cell_type": "markdown",
   "metadata": {},
   "source": [
    "### Data structures and types"
   ]
  },
  {
   "cell_type": "markdown",
   "metadata": {},
   "source": [
    "&emsp; In all versions of the simulator there will always be 3 entities: 1) The page with content - it is represented by node in graph 2) The graph that imposes constrains on the possible orders of  presenting the pages to the user 3)  The user that visits the pages .<br><br>\n",
    "\n",
    "Here we present very simple implementation of the above concepts:\n",
    "&emsp;Directed graph of the type *Graph1* describes possible pages links. Vertexes of the graph of type *Node1* represent one single page that the agent is supposed to see. The nodes has no special mechanism to describe the content of the associated page, and they differs only by id.<br>\n",
    "<br>\n",
    "&emsp; *User1* type represents  one agent, that traverse the pages of content. The core part of it is a *choiseFunction* attribute. It is a function that defines the behavior of the agent with respect to each page (whether she leaves, proceeds or goes back). It should be assigned when the user is created."
   ]
  },
  {
   "cell_type": "code",
   "execution_count": 184,
   "metadata": {},
   "outputs": [],
   "source": [
    "@enum UserAction  goBack goNext leave\n",
    "\n",
    "struct Node1 \n",
    "    id :: String\n",
    "    NameInInput :: Any   \n",
    "end\n",
    "\n",
    "\n",
    "struct Graph1 \n",
    "    graph :: Dict{Node1,Set{Node1}} \n",
    "end\n",
    "\n",
    "\n",
    "struct User1 \n",
    "   id :: String \n",
    "   ActionChoiseFunction  :: Any\n",
    "end\n"
   ]
  },
  {
   "cell_type": "markdown",
   "metadata": {},
   "source": [
    "### Auxiliary functions\n",
    "Here we define simple auxiliary functions"
   ]
  },
  {
   "cell_type": "code",
   "execution_count": 185,
   "metadata": {
    "code_folding": [
     0
    ]
   },
   "outputs": [],
   "source": [
    "# id_generator , get_node , printPath , getNeibhors\n",
    "\n",
    "# Create a counter , used to produce unique ids\n",
    "function id_generator()\n",
    "    id = 0 \n",
    "    return ()-> id = id + 1\n",
    "end\n",
    "\n",
    "nodeIdGenerator = id_generator()    # Nodes id generator\n",
    "userIdGenerator = id_generator()    # Users id generator\n",
    "\n",
    "\n",
    "\n",
    "# Return Node that corresponds to some name (that was given in input source , typicaly number)\n",
    "\n",
    "function get_node(NameInInput, graph:: Graph1)\n",
    "    nodes = graph.graph |> keys |> collect\n",
    "    index = findfirst(node -> NameInInput == node.NameInInput,nodes) \n",
    "   return  nodes[index]\n",
    "    end\n",
    "\n",
    "\n",
    "# Given array of nodes , print their names devided by \"=>\"\n",
    "# It is supposed to print the users path in the graph\n",
    "function printPath(path :: Array{Node1,1})\n",
    "    return   join(map(node-> node.NameInInput,path),\"=>\")\n",
    "    \n",
    "end\n",
    "\n",
    "# Given node and graph , return node's neighbors\n",
    "function getNeibhors(node :: Node1, graph :: Graph1) ::  Set{Node1}\n",
    "        return graph.graph[node]\n",
    "end;"
   ]
  },
  {
   "cell_type": "markdown",
   "metadata": {},
   "source": [
    " "
   ]
  },
  {
   "cell_type": "markdown",
   "metadata": {},
   "source": [
    "### Producing the graph \n",
    "\n",
    "&emsp;The graph represents the structure of the content. Page B can be shown after page A only if there is edge (A,B) in the graph. It actually imposes constrains on the order in which pages can be shown to the user. <br>\n",
    "Two extreme cases are possible : each node has outgoing and ingoing edges from/to all nodes -  all possible permutations are allowed. Or the line when each node has only one succedent - there is only one possible order.\n",
    "<br>\n",
    "The graph actually is not part of this simulator, it is used by an external algorithm that provides next node to the agent via special interface function (currently getNextNode). We need it here only to run the simulation.\n",
    " "
   ]
  },
  {
   "cell_type": "markdown",
   "metadata": {},
   "source": [
    "The function below produces the simplest variant of the graph of type Graph1 from array of pairs of numbers. It doesn't have any distinctions between the nodes, all the pages are considered the same. It provides only the content structure - the edges between the nodes. "
   ]
  },
  {
   "cell_type": "code",
   "execution_count": 186,
   "metadata": {},
   "outputs": [],
   "source": [
    "function createGraph(simple_tuples :: Array{Tuple{Int64,Int64},1})\n",
    "    \n",
    "    node_dict = Dict()\n",
    "    graph = Graph1(Dict())\n",
    "    \n",
    "    create_new_node = (NameInInput) -> \n",
    "                        (()-> (id = string(nodeIdGenerator()); Node1(id,NameInInput)))\n",
    "    \n",
    "    for (n1,n2) in simple_tuples\n",
    "        \n",
    "        node1 = get!(create_new_node(n1),node_dict,n1)\n",
    "        \n",
    "        node2 = get!(create_new_node(n2),node_dict,n2)\n",
    "        \n",
    "        neighbors = get!(Set,graph.graph,node1)\n",
    "        get!(Set,graph.graph,node2)\n",
    "\n",
    "        push!(neighbors,node2)      \n",
    "        \n",
    "    end\n",
    "\n",
    "  return graph  \n",
    "    \n",
    "end\n",
    ";"
   ]
  },
  {
   "cell_type": "markdown",
   "metadata": {},
   "source": [
    " "
   ]
  },
  {
   "cell_type": "markdown",
   "metadata": {},
   "source": [
    "### Main interface functions\n",
    "\n",
    "&emsp;The following functions are actually the most important parts of the simulator. The first one defines agent's behavior : which action will be chosen by the agent after watching some particular page (visiting some particular node ). <br>\n",
    "&emsp;The second function defines which new page will be presented to the agent if she decided to proceed. It will connect the simulator to some external algorithm that will attempt to maximize the number of pages visited.\n",
    "\n"
   ]
  },
  {
   "cell_type": "markdown",
   "metadata": {},
   "source": [
    "The functions below are simple implementations:<br>1) In order to choose the next action the inner function of the agent is called <br>2)The next page to show to the user is selected uniformly among neighbors of the current page in the graph. "
   ]
  },
  {
   "cell_type": "code",
   "execution_count": 187,
   "metadata": {
    "code_folding": []
   },
   "outputs": [],
   "source": [
    "\n",
    "\n",
    "\n",
    "function chooseNextAction(user :: User1, node :: Node1) :: UserAction\n",
    "    user.ActionChoiseFunction(node)\n",
    "end\n",
    "\n",
    "\n",
    "\n",
    "function getNextNode(graph :: Graph1, path :: Array{Node1,1})\n",
    "    currentNode = path[end]\n",
    "    neighbors = getNeibhors(currentNode,graph)\n",
    "    if length(neighbors) == 0\n",
    "        return currentNode\n",
    "    else \n",
    "        return rand(neighbors)\n",
    "    end\n",
    "    \n",
    "end;\n"
   ]
  },
  {
   "cell_type": "markdown",
   "metadata": {},
   "source": [
    "## Main function \n",
    "\n",
    "&emsp;In *performWalk* function the simulation is executed for one agent. Given initial node and content graph, the following function simulates agent's traversal in the set of pages. It assumes that the agent can make 3 actions: 1) Press \"next\" -- proceed to the next page. 2) Press \"back\" - go back to the previous page 3) Leave the pages -- it is always the last action in the simulation for the current agent.<br>\n",
    "In response to each action the current state of the simulator is updated , and the information about user's traversals is collected. <br>\n",
    "There are two important records here : path and current node . <br> <br>\n",
    "&emsp;1) **nodesVisited** -- list of unique nodes that were visited by the agent sorted by time they were revealed (by round index).<br>\n",
    "Walking back and forth is allowed only along the *nodesVisited* list, it happens when the agent presses next and back. When the agent is at the last node ( nodesVisited\\[end\\] ) and press \"next\", she traverses to the new node that is returned by *getNextNode* function. <br> \n",
    "&emsp;2) **current node** -- the node the agent is currently at i.e the page the user watches now. <br><br>\n",
    "&emsp;Example: at the beginning the path contains only the initial node N1 and the current node is also N1. Than the user presses \"next\" and the new node N2 is provided by *getNextNode*, the *nodesVisited* list is (N1,N2) and current node is N2. Than the user presses \"back\" , the *nodesVisited* remains the same and current node turns equal to N1 . Than the user presses \"next\" and the state turns to be *nodesVisited* =(N1,N2) current node = N2 ....."
   ]
  },
  {
   "cell_type": "code",
   "execution_count": 373,
   "metadata": {},
   "outputs": [],
   "source": [
    "\n",
    "function performWalk(user :: User1, graph :: Graph1, initialNode :: Node1)\n",
    "    \n",
    "    currentNode = initialNode\n",
    "    nodesVisited = Node1[currentNode]\n",
    "    path = Node1[currentNode]\n",
    "    currentIndex = 1\n",
    "    stepCounter = 0\n",
    "\n",
    "    while true\n",
    "              \n",
    "       nextAction = chooseNextAction(user, currentNode)\n",
    "        \n",
    "       # The agent is somewhere on previous pages that he visited and press next\n",
    "        if nextAction == goNext && currentIndex < length(nodesVisited)\n",
    "            currentIndex += 1\n",
    "            currentNode = nodesVisited[currentIndex]\n",
    "            stepCounter += 1\n",
    "            push!(path,currentNode)\n",
    "        # The agent is somewhere on previous pages that he visited and press back\n",
    "        elseif nextAction == goBack && currentIndex > 1\n",
    "            currentIndex -= 1\n",
    "            currentNode = nodesVisited[currentIndex]\n",
    "            stepCounter += 1\n",
    "            push!(path,currentNode)\n",
    "        # The agent is on the last page that he visited and press next\n",
    "        elseif nextAction == goNext && currentIndex == length(nodesVisited)\n",
    "            currentIndex += 1\n",
    "            currentNode = getNextNode(graph,path)\n",
    "            stepCounter += 1\n",
    "            if nodesVisited[end] != currentNode\n",
    "                push!(nodesVisited,currentNode)\n",
    "            end\n",
    "            push!(path,currentNode)\n",
    "        # The agent press leave\n",
    "        elseif nextAction == leave\n",
    "            break\n",
    "        # Unexpected combination of conditions\n",
    "        else \n",
    "            stepCounter += 1\n",
    "\n",
    "            push!(path,currentNode)\n",
    "            # Throw exception\n",
    "            # throw(ErrorException(\"Something went wrong path $path , current index $currentIndex , step counter $stepCounter, action $nextAction\"))\n",
    "       end\n",
    "        \n",
    "    end\n",
    "\n",
    "    return Dict(\"path\" => path, \"nodesVisited\" => nodesVisited)\n",
    "end;\n"
   ]
  },
  {
   "cell_type": "code",
   "execution_count": null,
   "metadata": {},
   "outputs": [],
   "source": []
  },
  {
   "cell_type": "markdown",
   "metadata": {},
   "source": [
    "### The example of run \n",
    "\n",
    "1. ***Define agent's function for selecting the next action : simple uniform random selection***\n",
    "+ Creating the user with this selection function\n",
    "+ Creating a simple graph \n",
    "+ Getting the initial node object\n",
    "+ ***Perform simulation***\n",
    "+ Print the agents path \n"
   ]
  },
  {
   "cell_type": "code",
   "execution_count": 393,
   "metadata": {},
   "outputs": [
    {
     "data": {
      "text/plain": [
       "\"1=>1=>3=>1=>1=>1=>3\""
      ]
     },
     "execution_count": 393,
     "metadata": {},
     "output_type": "execute_result"
    }
   ],
   "source": [
    "chooseNextAction1 = x -> rand(instances(UserAction))\n",
    "\n",
    "user = User1(\"1\",chooseNextAction1)\n",
    "\n",
    "graph = createGraph([(1,2),(2,3),(1,3),(3,4)])\n",
    "\n",
    "initial_node = get_node(1,graph)\n",
    "\n",
    "result = performWalk(user,graph,initial_node)\n",
    "\n",
    "printPath(result[\"path\"])"
   ]
  }
 ],
 "metadata": {
  "kernelspec": {
   "display_name": "Julia 1.5.3",
   "language": "julia",
   "name": "julia-1.5"
  },
  "language_info": {
   "file_extension": ".jl",
   "mimetype": "application/julia",
   "name": "julia",
   "version": "1.5.3"
  }
 },
 "nbformat": 4,
 "nbformat_minor": 2
}
