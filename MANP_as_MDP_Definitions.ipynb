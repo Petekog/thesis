{
 "cells": [
  {
   "cell_type": "markdown",
   "metadata": {},
   "source": [
    "<h1><center> MANP problem <br>(Maximizing Average Number of Pages read in multi-page publications)<br> as an MDP</center></h1>"
   ]
  },
  {
   "cell_type": "markdown",
   "metadata": {},
   "source": [
    "## Introduction\n",
    "<a id='intro'></a>"
   ]
  },
  {
   "cell_type": "markdown",
   "metadata": {},
   "source": [
    "We consider the problem of MANP (*M*aximizing *A*verage *N*umber of *P*ages read in multi-page publications) as a simple MDP.<br>\n",
    "Content producer is an active agent that takes actions, content consumer (also called visitor, user) is  a part of the environment and his reactions to agent's actions define the dynamics of the environment. <br>\n",
    "\n",
    "We can roughly describe the process in the following way:<br>\n",
    "* On each step the agent shows to the user one page $c_i \\in C =\\{c_1,\\dots,c_n\\}$ .<br>\n",
    "* After seeing $c_i$ the user **either** proceeds and see the next page **or** leaves. Sometimes we say that the user presses \"next\" or \"leave\" button.<br>\n",
    "\n",
    "\n"
   ]
  },
  {
   "cell_type": "markdown",
   "metadata": {},
   "source": [
    "#### The example of presenting  the problem as state machine when there are 2 pages $C=\\{c_1,c_2\\}$: \n",
    "\n",
    "Each action \"*show page x*\" can traverse the system to the final state ( the user leaved **after** seeing page x ) with probability $1 - P_x$ **or** traverse the system to the state when the user wants to continue to see the pages with probability $P_x$, and page $x$ is already seen.\\\\ \n",
    "Red arrows denote the transition of the process to the final state - the visitor leaved.<br>\n",
    "When the user saw all pages, she always is traversed to the final state.\n",
    "<img src=\"MANP_as_MDP_includes/Automata2.svg\" style=\"width:650px;height:500px\"/>\n",
    "<br><br><br><br>"
   ]
  },
  {
   "cell_type": "markdown",
   "metadata": {},
   "source": [
    "## Formal MDP definition\n",
    "<a id='formal'></a>"
   ]
  },
  {
   "cell_type": "markdown",
   "metadata": {},
   "source": [
    "\n",
    "<hr style=\"border:2px solid gray\"> </hr>\n",
    "\n",
    " 1. **State space** $S = S' \\cup \\{s_{init},s_{final}\\}$ : \n",
    "    * Initial state $s_{init}$: The visitor haven't seen yet any content.\n",
    "    * Each state $s_j = \\{ \\text{Page } c_1 \\dots \\text{Page } c_n \\} \\in S'$ will contain all the pages the user saw.\n",
    "    * Final state $s_{final}$: The user finished watching the pages.\n",
    " <br> <br> \n",
    " 2.  **Action space** $A=\\{a_{c_1}\\dots a_{c_k}\\} \\cup \\{a_{stop}\\}$. \n",
    "     * Action $a_{c_k}$ denotes the action of presenting  to the visitor page $c_k \\in B$.\n",
    "     * Action $a_{stop}$ denotes the action \"stop showing pages\".\n",
    " <br><br>\n",
    " 3.  **Reward function** $R(a,s,s')$ for $a \\in A\\;s,s'\\in S$  \n",
    "     * Depends only on the resulting state $s'$.\n",
    "     * If the agent traversed to $s_{final}$, the reward is zero. Otherwise it's 1. ( There is one exception )\n",
    "     * If the agent saw all the pictures and presses \"next\" after seeing the last one, the system traverses to the final state and the agent gets reward 1.\n",
    " <br><br>\n",
    " 4. **Transition function** $T(a,s,s')$ depends only on action $a$. \n",
    "    * There is two possible transitions given (almost) each state and action , corresponding to two users action : The pressed \"next\" or \"leave\".<br><br>\n",
    "    \n",
    "<hr style=\"border:2px solid gray\"> </hr>\n",
    "\n",
    "**Remark:**<br>\n",
    "\n",
    "In addition -100 reward was added when the page that was already seen is proposed to the user again, it was done for out of the box POMDPs solvers, to prevent revisiting the pages."
   ]
  },
  {
   "cell_type": "markdown",
   "metadata": {},
   "source": [
    "* Example of transition matrix for action \"Show Page 2\", when $1 - P_1$ is a probability of leaving of page 2 for the current user:\n",
    "\n",
    "<table style=\"border-collapse:collapse;border-spacing:0\" class=\"tg\"><thead><tr><th style=\"border-color:inherit;border-style:solid;border-width:1px;font-family:Arial, sans-serif;font-size:14px;font-weight:normal;overflow:hidden;padding:10px 5px;text-align:center;vertical-align:top;word-break:normal\"><span style=\"text-decoration:underline\">Action</span> <br><span style=\"font-weight:bold\">Show Page 2</span></th><th style=\"border-color:inherit;border-style:solid;border-width:1px;font-family:Arial, sans-serif;font-size:14px;font-weight:normal;overflow:hidden;padding:10px 5px;text-align:center;vertical-align:top;word-break:normal\" colspan=\"4\"><span style=\"text-decoration:underline\">Destination</span> <br>State <span style=\"font-weight:bold\">s'</span></th></tr></thead><tbody><tr><td style=\"border-color:inherit;border-style:solid;border-width:1px;font-family:Arial, sans-serif;font-size:14px;overflow:hidden;padding:10px 5px;text-align:center;vertical-align:top;word-break:normal\" rowspan=\"3\"><br><br><span style=\"text-decoration:underline\">Source State</span><br><br><span style=\"font-weight:bold\">s = { c_1 ... c_n }</span></td><td style=\"border-color:inherit;border-style:solid;border-width:1px;font-family:Arial, sans-serif;font-size:14px;overflow:hidden;padding:10px 5px;text-align:center;vertical-align:top;word-break:normal\"></td><td style=\"border-color:black;border-style:solid;border-width:1px;font-family:Arial, sans-serif;font-size:14px;overflow:hidden;padding:10px 5px;text-align:left;vertical-align:top;word-break:normal\">s' = s U {Page 2}&nbsp;&nbsp;</td><td style=\"border-color:black;border-style:solid;border-width:1px;font-family:Arial, sans-serif;font-size:14px;overflow:hidden;padding:10px 5px;text-align:left;vertical-align:top;word-break:normal\">s' = final state</td><td style=\"border-color:black;border-style:solid;border-width:1px;font-family:Arial, sans-serif;font-size:14px;overflow:hidden;padding:10px 5px;text-align:left;vertical-align:top;word-break:normal\">s' = s</td></tr><tr><td style=\"border-color:inherit;border-style:solid;border-width:1px;font-family:Arial, sans-serif;font-size:14px;overflow:hidden;padding:10px 5px;text-align:center;vertical-align:top;word-break:normal\">Page 2 <span style=\"font-weight:bold\">not in </span><span style=\"font-weight:normal\">s</span></td><td style=\"border-color:black;border-style:solid;border-width:1px;font-family:Arial, sans-serif;font-size:14px;overflow:hidden;padding:10px 5px;text-align:center;vertical-align:top;word-break:normal\">P_1</td><td style=\"border-color:black;border-style:solid;border-width:1px;font-family:Arial, sans-serif;font-size:14px;overflow:hidden;padding:10px 5px;text-align:center;vertical-align:top;word-break:normal\">1 - P_1</td><td style=\"border-color:black;border-style:solid;border-width:1px;font-family:Arial, sans-serif;font-size:14px;overflow:hidden;padding:10px 5px;text-align:center;vertical-align:top;word-break:normal\">0</td></tr><tr><td style=\"border-color:inherit;border-style:solid;border-width:1px;font-family:Arial, sans-serif;font-size:14px;overflow:hidden;padding:10px 5px;text-align:center;vertical-align:top;word-break:normal\">Page 2 <span style=\"font-weight:bold\">in </span><span style=\"font-weight:normal\">s</span></td><td style=\"border-color:black;border-style:solid;border-width:1px;font-family:Arial, sans-serif;font-size:14px;overflow:hidden;padding:10px 5px;text-align:center;vertical-align:top;word-break:normal\">0</td><td style=\"border-color:black;border-style:solid;border-width:1px;font-family:Arial, sans-serif;font-size:14px;overflow:hidden;padding:10px 5px;text-align:center;vertical-align:top;word-break:normal\">0</td><td style=\"border-color:black;border-style:solid;border-width:1px;font-family:Arial, sans-serif;font-size:14px;overflow:hidden;padding:10px 5px;text-align:center;vertical-align:top;word-break:normal\">1</td></tr></tbody></table>"
   ]
  },
  {
   "cell_type": "markdown",
   "metadata": {},
   "source": [
    "##  MDP Implementation\n",
    "<a id='impl'></a>"
   ]
  },
  {
   "cell_type": "markdown",
   "metadata": {},
   "source": [
    "[POMDPs.jl](https://github.com/JuliaPOMDP/POMDPs.jl) package will be used to help modeling the MDP. It provides flexible interface that is compatable with different tools for solving and simulating an MDP. It specifies the set of functions that should be implemented. In fact we overload the methods of POMDPs package to work with the process we define. \n",
    "\n",
    "In following several subsections we implement this methods one by one and provide a short explanation for the  implementation."
   ]
  },
  {
   "cell_type": "markdown",
   "metadata": {},
   "source": [
    "##### Packages\n",
    "<a id='basic'></a>"
   ]
  },
  {
   "cell_type": "code",
   "execution_count": 27,
   "metadata": {
    "code_folding": []
   },
   "outputs": [],
   "source": [
    "# File with modules to use\n",
    "include(\"MANP_as_MDP_includes/modules_to_use.jl\")"
   ]
  },
  {
   "cell_type": "markdown",
   "metadata": {},
   "source": [
    "### Basic objects\n",
    "Two basic objects of the model are Page and User_1.<br>\n",
    "\n",
    "User1  object will encapsulate the particular user's behavior. Although the user is a part of an environment in this model, and it may be fully described by the transition function of the process , we decided to represent it as a separate object.<br>\n",
    "\n",
    "User1  key attribute is userPreferencesFunction function. Given the current page shown her, the function returns the distribution on the possible user's reactions (leaving and proceeding).<br>\n",
    "\n",
    "Page is the object that represents the unit of content which the user consumes (watches).\n",
    "\n"
   ]
  },
  {
   "cell_type": "code",
   "execution_count": 28,
   "metadata": {},
   "outputs": [],
   "source": [
    "struct Page\n",
    "   id :: Int64 \n",
    "end\n",
    "\n",
    "pages_collection = nothing\n",
    "\n",
    "struct User1 \n",
    "   id :: Int64\n",
    "   userPreferencesFunction:: Any   # Recieve pages visited, current page shown\n",
    "end;\n"
   ]
  },
  {
   "cell_type": "markdown",
   "metadata": {},
   "source": [
    "### MDP basic elements\n",
    "<a id='elem'></a>\n",
    "#### States and Actions"
   ]
  },
  {
   "cell_type": "markdown",
   "metadata": {},
   "source": [
    "In this section we define such a parts of the MDP as actions , states and the mdp object itself.<br>\n",
    "\n",
    "The <span style='background:#D3D3D3'> Action1</span>  object represents the action of presenting to the user a particular unit of content (aka page).  There is one additional action with show_page attribute equals to \"nothing\", this is an action of stopping showing the pages to the user. \n",
    "\n",
    "The <span style='background:#D3D3D3'> State1</span> object specifies state. It contains the pages that the user already have seen and the indicator whether it is a terminal state."
   ]
  },
  {
   "cell_type": "code",
   "execution_count": 29,
   "metadata": {},
   "outputs": [],
   "source": [
    "struct Action1\n",
    "   show_page :: Union{Page,Nothing}           # The page that is presented to the user\n",
    "end\n",
    "\n",
    "struct State1\n",
    "    visited_pages :: Any                      # Didn't specified, because we need here immutable type.                                              # Supposed to be an immutable set\n",
    "    if_terminal :: Bool\n",
    "end "
   ]
  },
  {
   "cell_type": "markdown",
   "metadata": {},
   "source": [
    "#### MDP object\n",
    "As a part of the POMDPs interface specifications , we should define an MDP object type <span style='background:#D3D3D3'> ContentProducerMdp </span>  that inherits from the abstract type MDP parametrized with the type of actions' and states' object. The structure contains the parameters of the MDP environment for MANP. It is passed as a first argument to all the POMDPs interface's functions. \n",
    "\n",
    "It will contain a current user that determine the process dynamics, array of content units (pages) as well as tools for tracking and statistics. \n",
    "\n",
    "In addition we define <span style='background:#D3D3D3'> MdpStatistics </span>, the object that aggregates the statistics for the concrete <span style='background:#D3D3D3'> ContentProducerMdp </span>."
   ]
  },
  {
   "cell_type": "code",
   "execution_count": 30,
   "metadata": {
    "code_folding": []
   },
   "outputs": [],
   "source": [
    "mutable struct MdpStatistics\n",
    "   current_user_path :: Array{Page,1} \n",
    "   nexts_per_page :: Array{Int64,1}\n",
    "    leaves_per_page :: Array{Int64,1}\n",
    "    total_pages_seen :: Int64\n",
    "    users_number :: Int64\n",
    "    pages_seen_per_user :: Array{Int64,1}\n",
    "    page_fialures_num :: Int64\n",
    "    \n",
    "end\n",
    "\n",
    "mutable struct ContentProducerMdp <: MDP{State1,Action1}\n",
    "    pages :: Array{Page,1}\n",
    "    current_user :: User1\n",
    "    statistics :: MdpStatistics\n",
    "    statistics_on :: Bool            # Whether the statistics should be collected\n",
    "                                     # (Not neccessary for value iteration for example)\n",
    "    \n",
    "end\n",
    "\n"
   ]
  },
  {
   "cell_type": "markdown",
   "metadata": {},
   "source": [
    "##### Auxiliary functions specified in POMDPs interface"
   ]
  },
  {
   "cell_type": "markdown",
   "metadata": {},
   "source": [
    "Defining the initial state and the discount factor. "
   ]
  },
  {
   "cell_type": "code",
   "execution_count": 31,
   "metadata": {},
   "outputs": [],
   "source": [
    "POMDPs.discount(mdp::ContentProducerMdp) = 1\n",
    "\n",
    "POMDPs.initialstate(mdp::ContentProducerMdp)= SparseCat([State1(Tuple([]),false)],[1])\n",
    "\n",
    "POMDPs.isterminal(mdp::ContentProducerMdp,s::State1)= return s.if_terminal"
   ]
  },
  {
   "cell_type": "markdown",
   "metadata": {},
   "source": [
    "#### Transition function\n",
    "\n",
    "Exactly two states have non-zero probabilities given action $a_i$. They are: 1) the final state and 2) the state that contains all the pages the user visited including the last one $c_i$. The transition distribution on these states is defined by the probability of the user to leave for each page. The transition function queries the current user to get it (userPreferencesFunction attribute of User1). <br>\n",
    "Special case is when the visitor already saw all the pages, then the MDP is automatically traversed to the final state. "
   ]
  },
  {
   "cell_type": "code",
   "execution_count": 32,
   "metadata": {},
   "outputs": [],
   "source": [
    "function POMDPs.transition(mdp::ContentProducerMdp,state::State1,act::Action1)\n",
    "\n",
    "    pages_visited = state.visited_pages\n",
    "    current_page = act.show_page\n",
    "    \n",
    "    # Attemp to show the same page twice\n",
    "    if current_page in pages_visited\n",
    "        return SparseCat([State1(Tuple([]),true)], [1.0]) \n",
    "    end\n",
    "    \n",
    "    # Attemp to take action in the terminal state\n",
    "    if POMDPs.isterminal(mdp,state)\n",
    "       return SparseCat([State1(Tuple([]),true)], [1.0]) \n",
    "    end\n",
    "    \n",
    "    # All the pages have been seen by the user\n",
    "    if length(pages_visited) == length(mdp.pages) - 1\n",
    "       return SparseCat([State1(Tuple([]),true)], [1.0])\n",
    "    end\n",
    "    \n",
    "    # Getting user's leaving probability\n",
    "    leaving_probab = mdp.current_user.userPreferencesFunction(collect(Page,pages_visited),current_page)\n",
    "    \n",
    "    # Creating the next state\n",
    "    #\n",
    "    if length(pages_visited) == 0\n",
    "        new_page_visited = [current_page]\n",
    "    else\n",
    "        new_page_visited = push!(collect(pages_visited),current_page)\n",
    "    end\n",
    "    \n",
    "    # Sort the pages in the newly created state by id\n",
    "    sort!(new_page_visited,by=page->page.id,alg=InsertionSort)  # The array is almost sorted , that's why insertion sort\n",
    "#     println(\"Previous state: $(state) Action: $(act)\")\n",
    "#     println([State1(Tuple(new_page_visited),false), State1(Tuple([]),true)],[1-leaving_probab,leaving_probab])\n",
    "    # Return distribution object on possible states\n",
    "    return SparseCat([State1(Tuple(new_page_visited),false), State1(Tuple([]),true)],[1-leaving_probab,leaving_probab])\n",
    "end\n",
    "\n",
    "\n",
    "\n"
   ]
  },
  {
   "cell_type": "markdown",
   "metadata": {},
   "source": [
    "#### *TODO: Fix the last transition : leave and next when all the pages were seen "
   ]
  },
  {
   "cell_type": "markdown",
   "metadata": {},
   "source": [
    "#### Reward function\n",
    "\n",
    "The reward function is also simple and mostly depends on the destination state $s'$. If $s'$ is a final state, it means that the user leaved after seeing the last content unit and the reward is zero, and if $s'$ is non-terminal state then the user pressed \"next\" and the reward is 1.\n",
    "<br> **Remark:**<br>\n",
    "In addition -100 reward was added when the page that was already seen and is proposed to the user again, it was done for out of the box POMDPs solvers, to prevent revisiting the pages.\n"
   ]
  },
  {
   "cell_type": "code",
   "execution_count": 33,
   "metadata": {},
   "outputs": [],
   "source": [
    "function POMDPs.reward(mdp::ContentProducerMdp, state::State1, act::Action1, stateP::State1)\n",
    "    \n",
    "    # Collect statistics\n",
    "    RecordStatistics(mdp, state, stateP, act)\n",
    "\n",
    "    \n",
    "    are_all_pages_seen = (POMDPs.isterminal(mdp,stateP) \n",
    "                        && length(state.visited_pages) >= (length(mdp.pages) - 1))\n",
    "    \n",
    "    # Attemp to show the same page twice\n",
    "    if act.show_page in state.visited_pages\n",
    "        return -100\n",
    "    \n",
    "    # The user pressed \"next\"     \n",
    "    elseif !POMDPs.isterminal(mdp, stateP) ||  are_all_pages_seen\n",
    "        return 1\n",
    "    \n",
    "    # The user pressed \"leave\"\n",
    "    else\n",
    "        return 0\n",
    "    end\n",
    "\n",
    "end"
   ]
  },
  {
   "cell_type": "markdown",
   "metadata": {},
   "source": [
    "##### Auxiliary functions "
   ]
  },
  {
   "cell_type": "code",
   "execution_count": 34,
   "metadata": {
    "code_folding": []
   },
   "outputs": [],
   "source": [
    "include(\"MANP_as_MDP_includes/functions.jl\");"
   ]
  },
  {
   "cell_type": "markdown",
   "metadata": {},
   "source": [
    "## Tests of the MDP\n",
    "1. Create Pages objects.\n",
    "2. Create User with preferences (the probability of leaving)  $1 - \\frac{x-1}{N}$ , when $N$ is a number of pages and $x$ is a page id.<br> \n",
    "3. Create and initialize the statistics collector object for MDP<br> Creating MDP object.\n",
    "4. Create a Random Policy ( from POMDPs package )<br> The out of the box Random policy can show the same page more than once. \n",
    "\n",
    "5. Create a Simulator ( from POMDPs package )\n",
    "6. Run several iteration of the simulation"
   ]
  },
  {
   "cell_type": "code",
   "execution_count": 35,
   "metadata": {},
   "outputs": [
    {
     "name": "stdout",
     "output_type": "stream",
     "text": [
      "\n",
      "\n",
      "=========== Simulation starts ===============\n",
      "The agent showed page : Page(9)\n",
      "The agent showed page : Page(5)\n",
      "The user leaved.\n",
      "\u001b[1m\u001b[4mSummary \u001b[0m : \n",
      " Pages seen: Page[Page(9), Page(5)] \n",
      " Number of pages seen: 2\n",
      "\u001b[1m Reward \u001b[0m : 1.0\n",
      "\n",
      "\n",
      "=========== Simulation starts ===============\n",
      "The agent showed page : Page(5)\n",
      "The agent showed page : Page(4)\n",
      "The agent showed page : Page(8)\n",
      "The user leaved.\n",
      "\u001b[1m\u001b[4mSummary \u001b[0m : \n",
      " Pages seen: Page[Page(5), Page(4), Page(8)] \n",
      " Number of pages seen: 3\n",
      "\u001b[1m Reward \u001b[0m : 2.0\n",
      "\n",
      "\n",
      "=========== Simulation starts ===============\n",
      "The agent showed page : Page(2)\n",
      "The user leaved.\n",
      "\u001b[1m\u001b[4mSummary \u001b[0m : \n",
      " Pages seen: Page[Page(2)] \n",
      " Number of pages seen: 1\n",
      "\u001b[1m Reward \u001b[0m : 0.0\n",
      "\n",
      "\n",
      "=========== Simulation starts ===============\n",
      "The agent showed page : Page(10)\n",
      "The agent showed page : Page(4)\n",
      "The agent showed page : Page(3)\n",
      "The user leaved.\n",
      "\u001b[1m\u001b[4mSummary \u001b[0m : \n",
      " Pages seen: Page[Page(10), Page(4), Page(3)] \n",
      " Number of pages seen: 3\n",
      "\u001b[1m Reward \u001b[0m : 2.0\n",
      "\n",
      "\n",
      "=========== Simulation starts ===============\n",
      "The agent showed page : Page(3)\n",
      "The user leaved.\n",
      "\u001b[1m\u001b[4mSummary \u001b[0m : \n",
      " Pages seen: Page[Page(3)] \n",
      " Number of pages seen: 1\n",
      "\u001b[1m Reward \u001b[0m : 0.0\n"
     ]
    }
   ],
   "source": [
    "\n",
    "pages_number = 10\n",
    "\n",
    "pages1 = CreatePages(pages_number)\n",
    "\n",
    "# Creating user preferences function\n",
    "User_simple1 = User1(1,\n",
    "    userPreferencesCreate(pages1, collect(1:-(1/pages_number):1/pages_number))\n",
    "             );\n",
    "\n",
    "# MDP and statistics initialization \n",
    "statistics1 = InitStatistics(length(pages1))\n",
    "mdp1 = ContentProducerMdp(pages1, User_simple1, statistics1, true);\n",
    "\n",
    "# We select a random policy that is provided by POMDPs package to perform an initial testing for the model.\n",
    "policy1 = RandomPolicy(mdp1);\n",
    "\n",
    "# The most simple POMDPs simulator.\n",
    "rs = RolloutSimulator();\n",
    "\n",
    "for _ in 1:5\n",
    "    println(\"\\n\\n=========== Simulation starts ===============\")\n",
    "    r = simulate(rs,mdp1,policy1)\n",
    "    println(\"\\033[1m Reward \\033[0m : $(r)\")\n",
    "end\n"
   ]
  }
 ],
 "metadata": {
  "kernelspec": {
   "display_name": "Julia 1.5.3",
   "language": "julia",
   "name": "julia-1.5"
  },
  "language_info": {
   "file_extension": ".jl",
   "mimetype": "application/julia",
   "name": "julia",
   "version": "1.5.3"
  }
 },
 "nbformat": 4,
 "nbformat_minor": 2
}
