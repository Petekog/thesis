{
 "cells": [
  {
   "cell_type": "markdown",
   "metadata": {},
   "source": [
    "# Two state MDP for MANP"
   ]
  },
  {
   "cell_type": "markdown",
   "metadata": {},
   "source": [
    "We consider the problem of MANP (*M*aximizing *A*verage *N*umber of *P*ages read in multi-page publications) as a simple MDP.<br>\n",
    "Content producer is an active agent that takes actions, content consumer (also called visitor, user) is  a part of the environment and his reactions to agent's actions define the dynamics of the environment. <br>\n",
    "\n",
    "We can roughly describe the process in the following way:<br>\n",
    "* On each step the agent shows to the user one page $c_i \\in C =\\{c_1,\\dots,c_n\\}$ .<br>\n",
    "* After seeing $c_i$ the user **either** proceeds and see the next page **or** leaves. Sometimes we say that the user presses \"next\" or \"leave\" button.<br>\n"
   ]
  },
  {
   "cell_type": "markdown",
   "metadata": {},
   "source": [
    "#### The example of presenting  the problem as state machine when there are 4 pages $C=\\{c_1,c_2,c_3,c_4\\}$: \n",
    "\n",
    "Each action \"*show page x*\" can traverse the system to the final state ( the user leaved **after** seeing page x ) with probability $P_x$ **or** traverse the system to the state when the user wants to continue to see the pages with probability $1 - P_x$. There is one special action \"*stop showing pages*\" which always traverse the system to the final state. \n",
    "Red arrows denote the transition of the process to the final state - the visitor leaved.<br>\n",
    "<img src=\"Simple_MDP_includes/Two_states.png\" style=\"width:450px;height:400px\"/>"
   ]
  },
  {
   "cell_type": "markdown",
   "metadata": {},
   "source": [
    "<hr style=\"border:2px solid gray\"> </hr>\n",
    "\n",
    "## MDP definition <br>\n",
    "\n",
    " 1. **State space** $S = \\{s_{next},s_{leaved}\\}$ : \n",
    "    * $s_{next}$ is a state when the user wants to see the next page.\n",
    "    * $s_{next}$ is an initial state.\n",
    "    * $s_{leaved}$ is a state when the user leaved. It is a final state.\n",
    " <br> <br> \n",
    " 2.  **Action space** $A=\\{a_{c_1}\\dots a_{c_n}\\} \\cup \\{a_{stop}\\}$ :\n",
    "    * Action $a_{c_k}$ denotes the action of presenting to the visitor page $c_k \\in B$.\n",
    "    * Action $a_{stop}$ denotes the action \"stop showing pages\"\n",
    " <br><br>\n",
    " 3.  **Reward function** $R(a,s,s')$ for $a \\in A\\;s,s'\\in S$ :\n",
    "    * Reward function depends only on the resulting state $s'$.\n",
    "    * If the agent traversed to $s_{leaved}$, the reward is zero. Otherwise it's 1.\n",
    " <br><br>\n",
    " 4. **Transition function** $T(a,s,s')$ for $a \\in A\\;s,s'\\in S$ :\n",
    "     * Depends only on action $a$ i.e  only on the current page shown to the user.<br>\n",
    "     \n",
    "\n",
    "<hr style=\"border:2px solid gray\"> </hr>\n",
    "* Example of transition matrix for action \"show page 1\", when $p_1$ is a probability of leaving of page 1 for the current user:\n",
    "    <table style=\"border-collapse:collapse;border-spacing:0\" class=\"tg\"><thead><tr><th style=\"border-color:inherit;border-style:solid;border-width:1px;font-family:Arial, sans-serif;font-size:14px;font-weight:normal;overflow:hidden;padding:10px 5px;text-align:center;vertical-align:top;word-break:normal\"><span style=\"font-weight:bold;text-decoration:underline\">Action:</span><br><span style=\"font-weight:bold;text-decoration:underline\">show page</span><br><span style=\"font-weight:bold\">1</span></th><th style=\"border-color:inherit;border-style:solid;border-width:1px;font-family:Arial, sans-serif;font-size:20px;font-weight:normal;overflow:hidden;padding:10px 5px;text-align:center;vertical-align:top;word-break:normal\" colspan=\"3\"><span style=\"font-weight:bold\">Next state: </span><br><span style=\"font-weight:bold\">s'</span></th></tr></thead><tbody><tr><td style=\"border-color:inherit;border-style:solid;border-width:1px;font-family:Arial, sans-serif;font-size:20px;overflow:hidden;padding:10px 5px;text-align:center;vertical-align:top;word-break:normal\" rowspan=\"3\"><br><span style=\"font-weight:bold\">Current</span><br><span style=\"font-weight:bold\">state:</span><br><span style=\"font-weight:bold\">s</span><br></td><td style=\"border-color:inherit;border-style:solid;border-width:1px;font-family:Arial, sans-serif;font-size:14px;overflow:hidden;padding:10px 5px;text-align:left;vertical-align:top;word-break:normal\"></td><td style=\"border-color:inherit;border-style:solid;border-width:1px;font-family:Arial, sans-serif;font-size:14px;overflow:hidden;padding:10px 5px;text-align:left;vertical-align:top;word-break:normal\">s_next</td><td style=\"border-color:black;border-style:solid;border-width:1px;font-family:Arial, sans-serif;font-size:14px;overflow:hidden;padding:10px 5px;text-align:left;vertical-align:top;word-break:normal\">s_leaved</td></tr><tr><td style=\"border-color:black;border-style:solid;border-width:1px;font-family:Arial, sans-serif;font-size:14px;overflow:hidden;padding:10px 5px;text-align:left;vertical-align:top;word-break:normal\">s_next</td><td style=\"border-color:black;border-style:solid;border-width:1px;font-family:Arial, sans-serif;font-size:14px;overflow:hidden;padding:10px 5px;text-align:center;vertical-align:top;word-break:normal\">1 - p_1</td><td style=\"border-color:black;border-style:solid;border-width:1px;font-family:Arial, sans-serif;font-size:14px;overflow:hidden;padding:10px 5px;text-align:center;vertical-align:top;word-break:normal\">p_1</td></tr><tr><td style=\"border-color:black;border-style:solid;border-width:1px;font-family:Arial, sans-serif;font-size:14px;overflow:hidden;padding:10px 5px;text-align:left;vertical-align:top;word-break:normal\">s_leaved</td><td style=\"border-color:black;border-style:solid;border-width:1px;font-family:Arial, sans-serif;font-size:14px;overflow:hidden;padding:10px 5px;text-align:center;vertical-align:top;word-break:normal\">0</td><td style=\"border-color:black;border-style:solid;border-width:1px;font-family:Arial, sans-serif;font-size:14px;overflow:hidden;padding:10px 5px;text-align:center;vertical-align:top;word-break:normal\">1</td></tr></tbody></table>"
   ]
  },
  {
   "cell_type": "markdown",
   "metadata": {},
   "source": [
    "##  MDP Implementation\n",
    "<a id='impl'></a>"
   ]
  },
  {
   "cell_type": "code",
   "execution_count": 1,
   "metadata": {},
   "outputs": [],
   "source": [
    "# File with modules to use\n",
    "include(\"Simple_MDP_includes/modules_to_use.jl\")"
   ]
  },
  {
   "cell_type": "markdown",
   "metadata": {},
   "source": [
    "### Basic objects\n",
    "Two basic objects of the model are Page and User_simple .<br>\n",
    "\n",
    "User_simple  object will encapsulate the particular user's behavior. Although the user is a part of an environment in this model, and it may be fully described by the transition function of the process , we decided to represent it as a separate object.<br>\n",
    "\n",
    "User_simple  key attribute is userPreferencesFunction function. Given the current page shown her, the function returns the distribution on the possible user's reactions (leaving and proceeding).<br>\n",
    "\n",
    "Page is the object that represents the unit of content which the user consumes (watches)."
   ]
  },
  {
   "cell_type": "code",
   "execution_count": 2,
   "metadata": {},
   "outputs": [],
   "source": [
    "struct Page\n",
    "   id :: Int64 \n",
    "end\n",
    "\n",
    "pages_collection = nothing\n",
    "\n",
    "struct User_simple \n",
    "   id :: Int64\n",
    "   userPreferencesFunction:: Any   # Recieve pages visited, current page shown\n",
    "end;\n",
    "\n"
   ]
  },
  {
   "cell_type": "markdown",
   "metadata": {},
   "source": [
    "### MDP basic elements\n",
    "<a id='elem'></a>\n",
    "In this section we define basic elements of the MDP such as actions , states and the mdp object itself.<br>\n",
    "\n",
    "#### States and Actions\n",
    "\n",
    "The <span style='background:#D3D3D3'> Action_simple</span>  object represents the action of presenting to the user a particular unit of content (aka page). There is one additional action with show_page attribute equals to \"nothing\", this is an action of stopping showing the pages to the user.  \n",
    "\n",
    "The <span style='background:#D3D3D3'> State_simple</span> object specifies state. There are only two states in the MDP, so the only attribute defines whether it's a final state or not."
   ]
  },
  {
   "cell_type": "code",
   "execution_count": 3,
   "metadata": {},
   "outputs": [],
   "source": [
    "struct Action_simple\n",
    "   show_page :: Union{Page,Nothing}           # The page that is presented to the user\n",
    "end\n",
    "\n",
    "struct State_simple                             \n",
    "    if_terminal :: Bool\n",
    "end "
   ]
  },
  {
   "cell_type": "markdown",
   "metadata": {},
   "source": [
    "#### MDP object\n",
    "As a part of the POMDPs interface specifications , we should define an MDP object type <span style='background:#D3D3D3'> ContentProducerMdp </span>  that inherits from the abstract type MDP parametrized with the type of actions' and states' object. The structure contains the parameters of the MDP environment for MANP. It is passed as a first argument to all the POMDPs interface's functions. \n",
    "\n",
    "It will contain a current user that determine the process dynamics, array of content units (pages) as well as tools for tracking and statistics. \n",
    "\n",
    "In addition we define <span style='background:#D3D3D3'> MdpStatistics1 </span>, the object that aggregates the statistics for the concrete <span style='background:#D3D3D3'> ContentProducerMdp </span>."
   ]
  },
  {
   "cell_type": "code",
   "execution_count": 4,
   "metadata": {},
   "outputs": [],
   "source": [
    "mutable struct MdpStatistics1\n",
    "    current_user_path :: Array{Page,1} \n",
    "    nexts_per_page :: Array{Int64,1}\n",
    "    leaves_per_page :: Array{Int64,1}\n",
    "    total_pages_seen :: Int64\n",
    "    users_number :: Int64\n",
    "    pages_seen_per_user :: Array{Int64,1}\n",
    "    page_fialures_num :: Int64\n",
    "    \n",
    "end\n",
    "\n",
    "mutable struct ContentProducerMdp1 <: MDP{State_simple,Action_simple}\n",
    "    pages :: Array{Page,1}\n",
    "    current_user :: User_simple\n",
    "    statistics :: MdpStatistics1\n",
    "    statistics_on :: Bool            # Whether the statistics should be collected\n",
    "                                     # (Not neccessary for value iteration for example)\n",
    "    \n",
    "end\n"
   ]
  },
  {
   "cell_type": "markdown",
   "metadata": {},
   "source": [
    "##### Auxiliary functions specified in POMDPs interface"
   ]
  },
  {
   "cell_type": "code",
   "execution_count": 5,
   "metadata": {},
   "outputs": [],
   "source": [
    "POMDPs.discount(mdp::ContentProducerMdp1) = 1\n",
    "\n",
    "POMDPs.initialstate(mdp::ContentProducerMdp1)= SparseCat([State_simple(false)],[1])\n",
    "\n",
    "POMDPs.isterminal(mdp::ContentProducerMdp1,s::State_simple)= return s.if_terminal"
   ]
  },
  {
   "cell_type": "markdown",
   "metadata": {},
   "source": [
    "#### Transition function\n",
    "\n",
    "In current less complicated formulation of the problem, the transition distribution depends only on the action ( and not on the state ). The user decision whether to proceed or to leave explained only by page that was presented him last.\n",
    "\n",
    "The transition distribution is defined by the probability of the user to leave each page. The transition function queries the current user to get it (userPreferencesFunction attribute of User_simple). <br>\n",
    " "
   ]
  },
  {
   "cell_type": "code",
   "execution_count": 6,
   "metadata": {},
   "outputs": [],
   "source": [
    "function POMDPs.transition(mdp::ContentProducerMdp1,state::State_simple,act::Action_simple)\n",
    "\n",
    "    current_page = act.show_page   \n",
    "    \n",
    "    # Attemp to take action in the terminal state\n",
    "    if POMDPs.isterminal(mdp,state)\n",
    "       return SparseCat([State_simple(true)], [1.0]) \n",
    "    end\n",
    "    \n",
    "    # Stop showing pages to the user \n",
    "    if current_page === nothing\n",
    "        return SparseCat([State_simple(true)], [1.0]) \n",
    "    end\n",
    "    \n",
    "    # Getting user's leaving probability\n",
    "    leaving_probab = mdp.current_user.userPreferencesFunction(current_page)\n",
    "    \n",
    "    # Return distribution object on possible states\n",
    "    return SparseCat([State_simple(false), State_simple(true)],[1-leaving_probab,leaving_probab])\n",
    "end\n"
   ]
  },
  {
   "cell_type": "markdown",
   "metadata": {},
   "source": [
    "#### Reward function\n",
    "\n",
    "The reward function depends on the destination state $s'$. If $s'$ is a final state, it means that the user leaved after seeing the last content unit and the reward is zero, and if $s'$ is non-terminal state then the user pressed \"next\" and the reward is 1."
   ]
  },
  {
   "cell_type": "code",
   "execution_count": 7,
   "metadata": {},
   "outputs": [],
   "source": [
    "function POMDPs.reward(mdp::ContentProducerMdp1, state::State_simple, act::Action_simple, stateP::State_simple)\n",
    "    \n",
    "    # Collect statistics\n",
    "    RecordStatistics(mdp, state, stateP, act)\n",
    "    # The user pressed \"next\"     \n",
    "    if !POMDPs.isterminal(mdp, stateP)    \n",
    "        return 1\n",
    "    # The user pressed \"leave\"\n",
    "    else\n",
    "        return 0\n",
    "    end\n",
    "\n",
    "end\n"
   ]
  },
  {
   "cell_type": "markdown",
   "metadata": {},
   "source": [
    "##### Auxiliary functions "
   ]
  },
  {
   "cell_type": "code",
   "execution_count": 8,
   "metadata": {},
   "outputs": [],
   "source": [
    "include(\"Simple_MDP_includes/functions.jl\")"
   ]
  },
  {
   "cell_type": "markdown",
   "metadata": {},
   "source": [
    "## Tests of the MDP\n",
    "1. Create Pages objects.\n",
    "2. Create User with preferences (the probability of leaving)  $1 - \\frac{x-1}{N}$ , when $N$ is a number of pages and $x$ is a page id.<br> \n",
    "3. Create and initialize the statistics collector object for MDP<br> Creating MDP object.\n",
    "4. Create a Random Policy ( from POMDPs package )<br> The out of the box Random policy can show the same page more than once. \n",
    "\n",
    "5. Create a Simulator ( from POMDPs package )\n",
    "6. Run several iteration of the simulation"
   ]
  },
  {
   "cell_type": "code",
   "execution_count": 10,
   "metadata": {},
   "outputs": [
    {
     "name": "stdout",
     "output_type": "stream",
     "text": [
      "\n",
      "\n",
      "=========== Simulation starts ===============\n",
      "The agent showed page : Page(5)\n",
      "The user leaved.\n",
      "\u001b[1m\u001b[4mSummary \u001b[0m : \n",
      " Pages seen: Page[Page(5)] \n",
      " Number of pages seen: 1\n",
      "\u001b[1m Reward \u001b[0m : 0.0\n",
      "\n",
      "\n",
      "=========== Simulation starts ===============\n",
      "The agent showed page : Page(10)\n",
      "The agent showed page : Page(7)\n",
      "The agent showed page : Page(4)\n",
      "The agent showed page : Page(8)\n",
      "The user leaved.\n",
      "\u001b[1m\u001b[4mSummary \u001b[0m : \n",
      " Pages seen: Page[Page(10), Page(7), Page(4), Page(8)] \n",
      " Number of pages seen: 4\n",
      "\u001b[1m Reward \u001b[0m : 3.0\n",
      "\n",
      "\n",
      "=========== Simulation starts ===============\n",
      "The agent showed page : Page(2)\n",
      "The user leaved.\n",
      "\u001b[1m\u001b[4mSummary \u001b[0m : \n",
      " Pages seen: Page[Page(2)] \n",
      " Number of pages seen: 1\n",
      "\u001b[1m Reward \u001b[0m : 0.0\n",
      "\n",
      "\n",
      "=========== Simulation starts ===============\n",
      "The agent showed page : Page(6)\n",
      "The agent showed page : Page(7)\n",
      "The agent stopped showing the pages.\n",
      "Summary: \n",
      " Pages seen: Page[Page(6), Page(7)] \n",
      " Number of pages seen: 2\n",
      "\u001b[1m Reward \u001b[0m : 2.0\n",
      "\n",
      "\n",
      "=========== Simulation starts ===============\n",
      "The agent showed page : Page(1)\n",
      "The user leaved.\n",
      "\u001b[1m\u001b[4mSummary \u001b[0m : \n",
      " Pages seen: Page[Page(1)] \n",
      " Number of pages seen: 1\n",
      "\u001b[1m Reward \u001b[0m : 0.0\n"
     ]
    }
   ],
   "source": [
    "\n",
    "pages_number = 10\n",
    "\n",
    "pages1 = CreatePages(pages_number)\n",
    "\n",
    "# Creating user preferences function\n",
    "User_simple1 = User_simple(1,\n",
    "    userPreferencesCreate(pages1, collect(1:-(1/pages_number):1/pages_number))\n",
    "             );\n",
    "\n",
    "# MDP and statistics initialization \n",
    "statistics1 = InitStatistics1(length(pages1))\n",
    "mdp1 = ContentProducerMdp1(pages1, User_simple1, statistics1, true);\n",
    "\n",
    "# We select a random policy that is provided by POMDPs package to perform an initial testing for the model.\n",
    "policy1 = RandomPolicy(mdp1);\n",
    "\n",
    "# The most simple POMDPs simulator.\n",
    "rs = RolloutSimulator();\n",
    "\n",
    "for _ in 1:5\n",
    "    println(\"\\n\\n=========== Simulation starts ===============\")\n",
    "    r = simulate(rs,mdp1,policy1)\n",
    "    println(\"\\033[1m Reward \\033[0m : $(r)\")\n",
    "end\n"
   ]
  }
 ],
 "metadata": {
  "kernelspec": {
   "display_name": "Julia 1.5.3",
   "language": "julia",
   "name": "julia-1.5"
  },
  "language_info": {
   "file_extension": ".jl",
   "mimetype": "application/julia",
   "name": "julia",
   "version": "1.5.3"
  }
 },
 "nbformat": 4,
 "nbformat_minor": 2
}
